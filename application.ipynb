{
 "cells": [
  {
   "cell_type": "code",
   "execution_count": 20,
   "metadata": {},
   "outputs": [],
   "source": [
    "from bs4 import BeautifulSoup\n",
    "import pymongo\n",
    "import os\n",
    "import time\n",
    "from selenium import webdriver\n",
    "import pandas as pd"
   ]
  },
  {
   "cell_type": "code",
   "execution_count": 21,
   "metadata": {},
   "outputs": [],
   "source": [
    "driver = webdriver.Chrome()"
   ]
  },
  {
   "cell_type": "code",
   "execution_count": 22,
   "metadata": {},
   "outputs": [],
   "source": [
    "query=\"https://www.youtube.com/@codesupport9189/videos\"\n",
    "name = query.split('/')[3]\n",
    "name = name[1:]\n",
    "name\n",
    "driver.get(query)\n",
    "last_height = driver.execute_script(\"return document.documentElement.scrollHeight\")\n",
    "while True:\n",
    "    driver.execute_script(f\"scrollTo(0,{last_height})\")\n",
    "    time.sleep(3)\n",
    "    new_height = driver.execute_script(\"return document.documentElement.scrollHeight\")\n",
    "    if new_height != last_height:\n",
    "        last_height = new_height\n",
    "    else:\n",
    "        break\n"
   ]
  },
  {
   "cell_type": "code",
   "execution_count": 23,
   "metadata": {},
   "outputs": [],
   "source": [
    "response = driver.page_source\n",
    "soup = BeautifulSoup(response,'html.parser')"
   ]
  },
  {
   "cell_type": "code",
   "execution_count": 24,
   "metadata": {},
   "outputs": [
    {
     "data": {
      "text/plain": [
       "[<img alt=\"\" class=\"yt-core-image--fill-parent-height yt-core-image--fill-parent-width yt-core-image yt-core-image--content-mode-scale-aspect-fill yt-core-image--loaded\" src=\"https://i.ytimg.com/vi/HVvw6clmPD8/hqdefault.jpg?sqp=-oaymwEcCNACELwBSFXyq4qpAw4IARUAAIhCGAFwAcABBg==&amp;rs=AOn4CLAGWOYnN8DlOr9Hxxr30qX2q1GN2Q\" style=\"background-color: transparent;\"/>,\n",
       " <img alt=\"\" class=\"yt-core-image--fill-parent-height yt-core-image--fill-parent-width yt-core-image yt-core-image--content-mode-scale-aspect-fill yt-core-image--loaded\" src=\"https://i.ytimg.com/vi/7Uf70ZbOeFc/hqdefault.jpg?sqp=-oaymwEcCNACELwBSFXyq4qpAw4IARUAAIhCGAFwAcABBg==&amp;rs=AOn4CLB_vmjkkPOXaSnhYHKT4d5EqVWA6Q\" style=\"background-color: transparent;\"/>,\n",
       " <img alt=\"\" class=\"yt-core-image--fill-parent-height yt-core-image--fill-parent-width yt-core-image yt-core-image--content-mode-scale-aspect-fill yt-core-image--loaded\" src=\"https://i.ytimg.com/vi/82VHD9-0v6Y/hqdefault.jpg?sqp=-oaymwEcCNACELwBSFXyq4qpAw4IARUAAIhCGAFwAcABBg==&amp;rs=AOn4CLDM5g6g35AXMuqbrVWK_dpB5O8xCQ\" style=\"background-color: transparent;\"/>,\n",
       " <img alt=\"\" class=\"yt-core-image--fill-parent-height yt-core-image--fill-parent-width yt-core-image yt-core-image--content-mode-scale-aspect-fill yt-core-image--loaded\" src=\"https://i.ytimg.com/vi/GdcKgzeahfw/hqdefault.jpg?sqp=-oaymwEcCNACELwBSFXyq4qpAw4IARUAAIhCGAFwAcABBg==&amp;rs=AOn4CLAeHzV3gos0dn9Lffk1x6HZMcqiEw\" style=\"background-color: transparent;\"/>,\n",
       " <img alt=\"\" class=\"yt-core-image--fill-parent-height yt-core-image--fill-parent-width yt-core-image yt-core-image--content-mode-scale-aspect-fill yt-core-image--loaded\" src=\"https://i.ytimg.com/vi/5jueOHelNpI/hqdefault.jpg?sqp=-oaymwEcCNACELwBSFXyq4qpAw4IARUAAIhCGAFwAcABBg==&amp;rs=AOn4CLCGNAlVSA6dKGScrgT6kRw_0DCnuA\" style=\"background-color: transparent;\"/>]"
      ]
     },
     "execution_count": 24,
     "metadata": {},
     "output_type": "execute_result"
    }
   ],
   "source": [
    "images = soup.find_all('img',{'class': \"yt-core-image--fill-parent-height yt-core-image--fill-parent-width yt-core-image yt-core-image--content-mode-scale-aspect-fill yt-core-image--loaded\"})\n",
    "images"
   ]
  },
  {
   "cell_type": "code",
   "execution_count": 25,
   "metadata": {},
   "outputs": [
    {
     "data": {
      "text/plain": [
       "['https://i.ytimg.com/vi/HVvw6clmPD8/hqdefault.jpg?sqp=-oaymwEcCNACELwBSFXyq4qpAw4IARUAAIhCGAFwAcABBg==&rs=AOn4CLAGWOYnN8DlOr9Hxxr30qX2q1GN2Q',\n",
       " 'https://i.ytimg.com/vi/7Uf70ZbOeFc/hqdefault.jpg?sqp=-oaymwEcCNACELwBSFXyq4qpAw4IARUAAIhCGAFwAcABBg==&rs=AOn4CLB_vmjkkPOXaSnhYHKT4d5EqVWA6Q',\n",
       " 'https://i.ytimg.com/vi/82VHD9-0v6Y/hqdefault.jpg?sqp=-oaymwEcCNACELwBSFXyq4qpAw4IARUAAIhCGAFwAcABBg==&rs=AOn4CLDM5g6g35AXMuqbrVWK_dpB5O8xCQ',\n",
       " 'https://i.ytimg.com/vi/GdcKgzeahfw/hqdefault.jpg?sqp=-oaymwEcCNACELwBSFXyq4qpAw4IARUAAIhCGAFwAcABBg==&rs=AOn4CLAeHzV3gos0dn9Lffk1x6HZMcqiEw',\n",
       " 'https://i.ytimg.com/vi/5jueOHelNpI/hqdefault.jpg?sqp=-oaymwEcCNACELwBSFXyq4qpAw4IARUAAIhCGAFwAcABBg==&rs=AOn4CLCGNAlVSA6dKGScrgT6kRw_0DCnuA']"
      ]
     },
     "execution_count": 25,
     "metadata": {},
     "output_type": "execute_result"
    }
   ],
   "source": [
    "thumbnail_url = []\n",
    "for img in images:\n",
    "    thumbnail_url.append(img['src'])\n",
    "thumbnail_url"
   ]
  },
  {
   "cell_type": "code",
   "execution_count": 26,
   "metadata": {},
   "outputs": [
    {
     "data": {
      "text/plain": [
       "[<yt-formatted-string aria-label=\"LEETCODE 430 || FLATTEN A MULTI - LEVEL DOUBLY LINKED LIST || C++ || DSA || by CODE SUPPORT 122 views 1 year ago 22 minutes\" class=\"style-scope ytd-rich-grid-media\" id=\"video-title\">LEETCODE 430 || FLATTEN A MULTI - LEVEL DOUBLY LINKED LIST || C++ || DSA ||</yt-formatted-string>,\n",
       " <yt-formatted-string aria-label=\"LEETCODE 1239 || MAXIMUM LENGTH OF A CONCATENATED STRING WITH UNIQUE CHARACTERS || C++ || DSA by CODE SUPPORT 186 views 1 year ago 31 minutes\" class=\"style-scope ytd-rich-grid-media\" id=\"video-title\">LEETCODE 1239 || MAXIMUM LENGTH OF A CONCATENATED STRING WITH UNIQUE CHARACTERS || C++ || DSA</yt-formatted-string>,\n",
       " <yt-formatted-string aria-label=\"LEETCODE 103 || BINARY TREE ZIGZAG LEVEL ORDER TRAVERSAL || C++ by CODE SUPPORT 31 views 1 year ago 23 minutes\" class=\"style-scope ytd-rich-grid-media\" id=\"video-title\">LEETCODE 103 || BINARY TREE ZIGZAG LEVEL ORDER TRAVERSAL || C++</yt-formatted-string>,\n",
       " <yt-formatted-string aria-label=\"LEETCODE  241 || DIFFERENT WAYS TO ADD PARENTHESES || C++ by CODE SUPPORT 3,238 views 1 year ago 21 minutes\" class=\"style-scope ytd-rich-grid-media\" id=\"video-title\">LEETCODE  241 || DIFFERENT WAYS TO ADD PARENTHESES || C++</yt-formatted-string>,\n",
       " <yt-formatted-string aria-label=\"CHECK IF SUBTREE || LOVE BABBAR DSA SHEET || GFG || LEETCODE by CODE SUPPORT 109 views 1 year ago 10 minutes, 3 seconds\" class=\"style-scope ytd-rich-grid-media\" id=\"video-title\">CHECK IF SUBTREE || LOVE BABBAR DSA SHEET || GFG || LEETCODE</yt-formatted-string>]"
      ]
     },
     "execution_count": 26,
     "metadata": {},
     "output_type": "execute_result"
    }
   ],
   "source": [
    "titles_html = soup.find_all(id = \"video-title\")\n",
    "titles_html"
   ]
  },
  {
   "cell_type": "code",
   "execution_count": 27,
   "metadata": {},
   "outputs": [
    {
     "data": {
      "text/plain": [
       "['LEETCODE 430 || FLATTEN A MULTI - LEVEL DOUBLY LINKED LIST || C++ || DSA ||',\n",
       " 'LEETCODE 1239 || MAXIMUM LENGTH OF A CONCATENATED STRING WITH UNIQUE CHARACTERS || C++ || DSA',\n",
       " 'LEETCODE 103 || BINARY TREE ZIGZAG LEVEL ORDER TRAVERSAL || C++',\n",
       " 'LEETCODE  241 || DIFFERENT WAYS TO ADD PARENTHESES || C++',\n",
       " 'CHECK IF SUBTREE || LOVE BABBAR DSA SHEET || GFG || LEETCODE']"
      ]
     },
     "execution_count": 27,
     "metadata": {},
     "output_type": "execute_result"
    }
   ],
   "source": [
    "video_title = []\n",
    "for title in titles_html:\n",
    "    video_title.append(title.text)\n",
    "video_title"
   ]
  },
  {
   "cell_type": "code",
   "execution_count": 28,
   "metadata": {},
   "outputs": [
    {
     "data": {
      "text/plain": [
       "[<span class=\"inline-metadata-item style-scope ytd-video-meta-block\">122 views</span>,\n",
       " <span class=\"inline-metadata-item style-scope ytd-video-meta-block\">1 year ago</span>,\n",
       " <span class=\"inline-metadata-item style-scope ytd-video-meta-block\">186 views</span>,\n",
       " <span class=\"inline-metadata-item style-scope ytd-video-meta-block\">1 year ago</span>,\n",
       " <span class=\"inline-metadata-item style-scope ytd-video-meta-block\">31 views</span>,\n",
       " <span class=\"inline-metadata-item style-scope ytd-video-meta-block\">1 year ago</span>,\n",
       " <span class=\"inline-metadata-item style-scope ytd-video-meta-block\">3.2K views</span>,\n",
       " <span class=\"inline-metadata-item style-scope ytd-video-meta-block\">1 year ago</span>,\n",
       " <span class=\"inline-metadata-item style-scope ytd-video-meta-block\">109 views</span>,\n",
       " <span class=\"inline-metadata-item style-scope ytd-video-meta-block\">1 year ago</span>]"
      ]
     },
     "execution_count": 28,
     "metadata": {},
     "output_type": "execute_result"
    }
   ],
   "source": [
    "views_duration = soup.find_all('span',{'class': \"inline-metadata-item style-scope ytd-video-meta-block\"})\n",
    "views_duration"
   ]
  },
  {
   "cell_type": "code",
   "execution_count": 29,
   "metadata": {},
   "outputs": [],
   "source": [
    "views_duration_list = list(views_duration)"
   ]
  },
  {
   "cell_type": "code",
   "execution_count": 30,
   "metadata": {},
   "outputs": [
    {
     "data": {
      "text/plain": [
       "['122 views', '186 views', '31 views', '3.2K views', '109 views']"
      ]
     },
     "execution_count": 30,
     "metadata": {},
     "output_type": "execute_result"
    }
   ],
   "source": [
    "views = []\n",
    "for i in range(0,len(views_duration_list),2):\n",
    "    views.append(views_duration_list[i].text)\n",
    "views"
   ]
  },
  {
   "cell_type": "code",
   "execution_count": 31,
   "metadata": {},
   "outputs": [
    {
     "data": {
      "text/plain": [
       "['1 year ago', '1 year ago', '1 year ago', '1 year ago', '1 year ago']"
      ]
     },
     "execution_count": 31,
     "metadata": {},
     "output_type": "execute_result"
    }
   ],
   "source": [
    "duration = []\n",
    "for i in range(1,len(views_duration_list),2):\n",
    "    duration.append(views_duration_list[i].text)\n",
    "duration"
   ]
  },
  {
   "cell_type": "code",
   "execution_count": 32,
   "metadata": {},
   "outputs": [],
   "source": [
    "data = {\"Video Thumbnail\":thumbnail_url, \"Title\":video_title, \"Views\":views, \"Time of Posting\": duration}\n",
    "df = pd.DataFrame(data)\n",
    "df.to_csv(f\"{name}.csv\",index=False)"
   ]
  }
 ],
 "metadata": {
  "kernelspec": {
   "display_name": "venv",
   "language": "python",
   "name": "python3"
  },
  "language_info": {
   "codemirror_mode": {
    "name": "ipython",
    "version": 3
   },
   "file_extension": ".py",
   "mimetype": "text/x-python",
   "name": "python",
   "nbconvert_exporter": "python",
   "pygments_lexer": "ipython3",
   "version": "3.12.0"
  }
 },
 "nbformat": 4,
 "nbformat_minor": 2
}
